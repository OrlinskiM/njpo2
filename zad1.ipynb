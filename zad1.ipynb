{
 "cells": [
  {
   "cell_type": "markdown",
   "metadata": {
    "dotnet_interactive": {
     "language": "csharp"
    }
   },
   "source": [
    "Zadanie 1"
   ]
  },
  {
   "cell_type": "code",
   "execution_count": null,
   "metadata": {
    "dotnet_interactive": {
     "language": "csharp"
    }
   },
   "outputs": [
    {
     "name": "stdout",
     "output_type": "stream",
     "text": [
      "Pole: 10,825317547305483\n",
      "Obwod: 15\r\n",
      "Pole: 4,898979485566356\n",
      "Obwod: 12\r\n",
      "Pole: 4,47213595499958\n",
      "Obwod: 10\r\n"
     ]
    }
   ],
   "source": [
    "public abstract class Trojkat{\n",
    "    protected double a,b,c; \n",
    "    public double obwod,pole;\n",
    "\n",
    "    public double Pole(double a, double b, double c){\n",
    "        double p = Obwod(a,b,c)/2;\n",
    "        return Math.Sqrt(p*(p - a)*(p - b)*(p - c));\n",
    "    }\n",
    "\n",
    "    public double Obwod(double a, double b, double c){\n",
    "        return a+b+c;\n",
    "    }\n",
    "\n",
    "    public override String ToString(){\n",
    "        return ($\"Pole: \" + pole + \"\\nObwod: \" + obwod);\n",
    "    }\n",
    "}\n",
    "\n",
    "public class Rownoboczny : Trojkat{\n",
    "    public Rownoboczny(double a){\n",
    "        this.a = a;\n",
    "        this.obwod = Obwod(a,a,a);\n",
    "        this.pole = Pole(a,a,a);\n",
    "    }\n",
    "}\n",
    "\n",
    "public class Rownoramienny : Trojkat{\n",
    "    public Rownoramienny(double a, double b){\n",
    "        this.a = a;\n",
    "        this.b = b;\n",
    "        this.obwod = Obwod(a,a,b);\n",
    "        this.pole = Pole(a,a,b);\n",
    "    }\n",
    "}\n",
    "\n",
    "public class Prostokatny : Trojkat{\n",
    "    public Prostokatny(double a, double b){\n",
    "        this.a = a;\n",
    "        this.b = b;\n",
    "        this.c = Math.Sqrt(a*a + b*b);\n",
    "        this.obwod = Obwod(a,a,b);\n",
    "        this.pole = Pole(a,a,b);\n",
    "    }\n",
    "}\n",
    "\n",
    "var rownoboczny = new Rownoboczny(5.0);\n",
    "Console.WriteLine(rownoboczny);\n",
    "\n",
    "var rownoramienny = new Rownoramienny(5.0, 2.0);\n",
    "Console.WriteLine(rownoramienny);\n",
    "\n",
    "var prostokatny = new Prostokatny(3.0 ,4.0);\n",
    "Console.WriteLine(prostokatny);"
   ]
  }
 ],
 "metadata": {
  "kernelspec": {
   "display_name": ".NET (C#)",
   "language": "C#",
   "name": ".net-csharp"
  },
  "language_info": {
   "file_extension": ".cs",
   "mimetype": "text/x-csharp",
   "name": "C#",
   "pygments_lexer": "csharp",
   "version": "9.0"
  },
  "orig_nbformat": 4
 },
 "nbformat": 4,
 "nbformat_minor": 2
}
