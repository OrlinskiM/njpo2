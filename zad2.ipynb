{
 "cells": [
  {
   "cell_type": "code",
   "execution_count": null,
   "metadata": {
    "dotnet_interactive": {
     "language": "csharp"
    }
   },
   "outputs": [
    {
     "name": "stdout",
     "output_type": "stream",
     "text": [
      "Krotka nie przeszla walidacji, powielenie:\r\n",
      "| pan            | testowy        | 23  | Szef           | m |\r\n",
      " imie             nazwisko         wiek  stanowisko       plec\r\n",
      "| Mateusz        | Orlinski       | 22  | Student        | m |\r\n",
      "| pan            | testowy        | 23  | Szef           | m |\r\n",
      "Krotki zawierajace mateusz:\r\n",
      "| Mateusz        | Orlinski       | 22  | Student        | m |\r\n"
     ]
    }
   ],
   "source": [
    "using System.Collections.Generic;\n",
    "public class Pracownik\n",
    "    {\n",
    "        public String imie {get; set;}\n",
    "        public String nazwisko {get; set;}\n",
    "        public int wiek {get; set;}\n",
    "        public String stanowisko {get; set;}\n",
    "        public String plec {get; set;}\n",
    "        \n",
    "        public string Show()\n",
    "        {\n",
    "            return string.Format(\"| {0,-15}| {1,-15}| {2,-4}| {3,-15}| {4,-2}|\",\n",
    "            imie, nazwisko, wiek, stanowisko, plec);\n",
    "        }\n",
    "        public bool IsMatch(Pracownik pracownik)\n",
    "        {\n",
    "            if( imie == pracownik.imie && \n",
    "                nazwisko == pracownik.nazwisko &&\n",
    "                wiek == pracownik.wiek &&\n",
    "                stanowisko == pracownik.stanowisko &&\n",
    "                plec == pracownik.plec) return true;\n",
    "                else return false;\n",
    "        }\n",
    "    }\n",
    "\n",
    "public class Kartoteka<T> where T : Pracownik\n",
    "    {\n",
    "        List<T> baza = new List<T>();\n",
    "\n",
    "        public void Dodaj(T pracownik)\n",
    "        {\n",
    "            if (Validate(pracownik)) baza.Add(pracownik);\n",
    "        }\n",
    "\n",
    "        public void Usun(T pracownik)\n",
    "        {\n",
    "            baza.Remove(pracownik);\n",
    "        }\n",
    "\n",
    "        public void Szukaj(String pytanie)\n",
    "        {\n",
    "            Console.WriteLine(\"Krotki zawierajace {0}:\", pytanie.ToLower());\n",
    "            foreach(T a in baza)\n",
    "            {\n",
    "                if (a.Show().ToLower().Contains(pytanie.ToLower()))\n",
    "                {\n",
    "                    Console.WriteLine(a.Show());\n",
    "                }\n",
    "            }\n",
    "        }\n",
    "\n",
    "        public void Wyswietl()\n",
    "        {\n",
    "            Console.WriteLine(string.Format(\" {0,-15}  {1,-15}  {2,-4}  {3,-15}  {4,-2}\", \n",
    "            \"imie\", \"nazwisko\", \"wiek\", \"stanowisko\", \"plec\"));\n",
    "\n",
    "            foreach(T a in baza)\n",
    "            {\n",
    "                Console.WriteLine(a.Show());\n",
    "            }\n",
    "        }\n",
    "\n",
    "        public bool Validate(T pracownik)\n",
    "        {\n",
    "            if (baza.Any(x => x.IsMatch(pracownik) == true)) \n",
    "            {\n",
    "                Console.WriteLine(\"Krotka nie przeszla walidacji, powielenie:\");\n",
    "                Console.WriteLine(pracownik.Show());\n",
    "                return false;\n",
    "            }\n",
    "            else return true;\n",
    "        }\n",
    "    }\n",
    "    \n",
    "Kartoteka<Pracownik> kartoteka = new Kartoteka<Pracownik>();\n",
    "kartoteka.Dodaj(new Pracownik(){imie = \"Mateusz\", nazwisko = \"Orlinski\", wiek = 22, stanowisko = \"Student\", plec = \"m\"});\n",
    "kartoteka.Dodaj(new Pracownik(){imie = \"pan\", nazwisko = \"testowy\", wiek = 23, stanowisko = \"Szef\", plec = \"m\"});\n",
    "kartoteka.Dodaj(new Pracownik(){imie = \"pan\", nazwisko = \"testowy\", wiek = 23, stanowisko = \"Szef\", plec = \"m\"});\n",
    "kartoteka.Wyswietl();\n",
    "kartoteka.Szukaj(\"Mateusz\");\n"
   ]
  },
  {
   "cell_type": "code",
   "execution_count": null,
   "metadata": {
    "dotnet_interactive": {
     "language": "csharp"
    }
   },
   "outputs": [],
   "source": []
  }
 ],
 "metadata": {
  "kernelspec": {
   "display_name": ".NET (C#)",
   "language": "C#",
   "name": ".net-csharp"
  },
  "language_info": {
   "file_extension": ".cs",
   "mimetype": "text/x-csharp",
   "name": "C#",
   "pygments_lexer": "csharp",
   "version": "9.0"
  },
  "orig_nbformat": 4
 },
 "nbformat": 4,
 "nbformat_minor": 2
}
